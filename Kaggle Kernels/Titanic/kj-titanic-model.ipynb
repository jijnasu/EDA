{
 "cells": [
  {
   "cell_type": "code",
   "execution_count": 9,
   "id": "defd4bbb",
   "metadata": {
    "execution": {
     "iopub.execute_input": "2022-10-08T11:56:01.674234Z",
     "iopub.status.busy": "2022-10-08T11:56:01.673470Z",
     "iopub.status.idle": "2022-10-08T11:56:02.977203Z",
     "shell.execute_reply": "2022-10-08T11:56:02.975595Z"
    },
    "papermill": {
     "duration": 1.318863,
     "end_time": "2022-10-08T11:56:02.981002",
     "exception": false,
     "start_time": "2022-10-08T11:56:01.662139",
     "status": "completed"
    },
    "tags": []
   },
   "outputs": [],
   "source": [
    "# This Python 3 environment comes with many helpful analytics libraries installed\n",
    "# It is defined by the kaggle/python docker image: https://github.com/kaggle/docker-python\n",
    "# For example, here's several helpful packages to load in \n",
    "\n",
    "import numpy as np # linear algebra\n",
    "import pandas as pd # data processing, CSV file I/O (e.g. pd.read_csv)\n",
    "\n",
    "# Input data files are available in the \"../input/\" directory.\n",
    "# For example, running this (by clicking run or pressing Shift+Enter) will list all files under the input directory\n",
    "\n",
    "import os\n",
    "for dirname, _, filenames in os.walk('/kaggle/input'):\n",
    "    for filename in filenames:\n",
    "        print(os.path.join(dirname, filename))\n",
    "\n",
    "# Any results you write to the current directory are saved as output.\n",
    "\n",
    "\n",
    "\n",
    "# from myutils import *\n",
    "import matplotlib.pyplot as plt\n",
    "import seaborn as sns\n",
    "%matplotlib inline"
   ]
  },
  {
   "cell_type": "code",
   "execution_count": null,
   "id": "f1a36ca3",
   "metadata": {
    "papermill": {
     "duration": 0.007141,
     "end_time": "2022-10-08T11:56:02.996120",
     "exception": false,
     "start_time": "2022-10-08T11:56:02.988979",
     "status": "completed"
    },
    "tags": []
   },
   "outputs": [],
   "source": []
  },
  {
   "cell_type": "code",
   "execution_count": 10,
   "id": "382411b8",
   "metadata": {
    "execution": {
     "iopub.execute_input": "2022-10-08T11:56:03.014970Z",
     "iopub.status.busy": "2022-10-08T11:56:03.014052Z",
     "iopub.status.idle": "2022-10-08T11:56:03.069329Z",
     "shell.execute_reply": "2022-10-08T11:56:03.067997Z"
    },
    "papermill": {
     "duration": 0.067993,
     "end_time": "2022-10-08T11:56:03.072155",
     "exception": false,
     "start_time": "2022-10-08T11:56:03.004162",
     "status": "completed"
    },
    "tags": []
   },
   "outputs": [
    {
     "data": {
      "text/html": [
       "<div>\n",
       "<style scoped>\n",
       "    .dataframe tbody tr th:only-of-type {\n",
       "        vertical-align: middle;\n",
       "    }\n",
       "\n",
       "    .dataframe tbody tr th {\n",
       "        vertical-align: top;\n",
       "    }\n",
       "\n",
       "    .dataframe thead th {\n",
       "        text-align: right;\n",
       "    }\n",
       "</style>\n",
       "<table border=\"1\" class=\"dataframe\">\n",
       "  <thead>\n",
       "    <tr style=\"text-align: right;\">\n",
       "      <th></th>\n",
       "      <th>PassengerId</th>\n",
       "      <th>Survived</th>\n",
       "      <th>Pclass</th>\n",
       "      <th>Name</th>\n",
       "      <th>Sex</th>\n",
       "      <th>Age</th>\n",
       "      <th>SibSp</th>\n",
       "      <th>Parch</th>\n",
       "      <th>Ticket</th>\n",
       "      <th>Fare</th>\n",
       "      <th>Cabin</th>\n",
       "      <th>Embarked</th>\n",
       "    </tr>\n",
       "  </thead>\n",
       "  <tbody>\n",
       "    <tr>\n",
       "      <th>0</th>\n",
       "      <td>1</td>\n",
       "      <td>0</td>\n",
       "      <td>3</td>\n",
       "      <td>Braund, Mr. Owen Harris</td>\n",
       "      <td>male</td>\n",
       "      <td>22.0</td>\n",
       "      <td>1</td>\n",
       "      <td>0</td>\n",
       "      <td>A/5 21171</td>\n",
       "      <td>7.2500</td>\n",
       "      <td>NaN</td>\n",
       "      <td>S</td>\n",
       "    </tr>\n",
       "    <tr>\n",
       "      <th>1</th>\n",
       "      <td>2</td>\n",
       "      <td>1</td>\n",
       "      <td>1</td>\n",
       "      <td>Cumings, Mrs. John Bradley (Florence Briggs Th...</td>\n",
       "      <td>female</td>\n",
       "      <td>38.0</td>\n",
       "      <td>1</td>\n",
       "      <td>0</td>\n",
       "      <td>PC 17599</td>\n",
       "      <td>71.2833</td>\n",
       "      <td>C85</td>\n",
       "      <td>C</td>\n",
       "    </tr>\n",
       "    <tr>\n",
       "      <th>2</th>\n",
       "      <td>3</td>\n",
       "      <td>1</td>\n",
       "      <td>3</td>\n",
       "      <td>Heikkinen, Miss. Laina</td>\n",
       "      <td>female</td>\n",
       "      <td>26.0</td>\n",
       "      <td>0</td>\n",
       "      <td>0</td>\n",
       "      <td>STON/O2. 3101282</td>\n",
       "      <td>7.9250</td>\n",
       "      <td>NaN</td>\n",
       "      <td>S</td>\n",
       "    </tr>\n",
       "    <tr>\n",
       "      <th>3</th>\n",
       "      <td>4</td>\n",
       "      <td>1</td>\n",
       "      <td>1</td>\n",
       "      <td>Futrelle, Mrs. Jacques Heath (Lily May Peel)</td>\n",
       "      <td>female</td>\n",
       "      <td>35.0</td>\n",
       "      <td>1</td>\n",
       "      <td>0</td>\n",
       "      <td>113803</td>\n",
       "      <td>53.1000</td>\n",
       "      <td>C123</td>\n",
       "      <td>S</td>\n",
       "    </tr>\n",
       "    <tr>\n",
       "      <th>4</th>\n",
       "      <td>5</td>\n",
       "      <td>0</td>\n",
       "      <td>3</td>\n",
       "      <td>Allen, Mr. William Henry</td>\n",
       "      <td>male</td>\n",
       "      <td>35.0</td>\n",
       "      <td>0</td>\n",
       "      <td>0</td>\n",
       "      <td>373450</td>\n",
       "      <td>8.0500</td>\n",
       "      <td>NaN</td>\n",
       "      <td>S</td>\n",
       "    </tr>\n",
       "  </tbody>\n",
       "</table>\n",
       "</div>"
      ],
      "text/plain": [
       "   PassengerId  Survived  Pclass  \\\n",
       "0            1         0       3   \n",
       "1            2         1       1   \n",
       "2            3         1       3   \n",
       "3            4         1       1   \n",
       "4            5         0       3   \n",
       "\n",
       "                                                Name     Sex   Age  SibSp  \\\n",
       "0                            Braund, Mr. Owen Harris    male  22.0      1   \n",
       "1  Cumings, Mrs. John Bradley (Florence Briggs Th...  female  38.0      1   \n",
       "2                             Heikkinen, Miss. Laina  female  26.0      0   \n",
       "3       Futrelle, Mrs. Jacques Heath (Lily May Peel)  female  35.0      1   \n",
       "4                           Allen, Mr. William Henry    male  35.0      0   \n",
       "\n",
       "   Parch            Ticket     Fare Cabin Embarked  \n",
       "0      0         A/5 21171   7.2500   NaN        S  \n",
       "1      0          PC 17599  71.2833   C85        C  \n",
       "2      0  STON/O2. 3101282   7.9250   NaN        S  \n",
       "3      0            113803  53.1000  C123        S  \n",
       "4      0            373450   8.0500   NaN        S  "
      ]
     },
     "execution_count": 10,
     "metadata": {},
     "output_type": "execute_result"
    }
   ],
   "source": [
    "# td =train_data = pd.read_csv('/kaggle/input/titanic/train.csv')\n",
    "# test_data = pd.read_csv('/kaggle/input/titanic/test.csv')\n",
    "td =train_data = pd.read_csv('data/train.csv')\n",
    "test_data = pd.read_csv('data/test.csv')\n",
    "train_data.head()"
   ]
  },
  {
   "cell_type": "code",
   "execution_count": 11,
   "id": "26789b48",
   "metadata": {
    "execution": {
     "iopub.execute_input": "2022-10-08T11:56:03.089952Z",
     "iopub.status.busy": "2022-10-08T11:56:03.088634Z",
     "iopub.status.idle": "2022-10-08T11:56:03.361830Z",
     "shell.execute_reply": "2022-10-08T11:56:03.360535Z"
    },
    "papermill": {
     "duration": 0.285094,
     "end_time": "2022-10-08T11:56:03.364715",
     "exception": false,
     "start_time": "2022-10-08T11:56:03.079621",
     "status": "completed"
    },
    "tags": []
   },
   "outputs": [
    {
     "data": {
      "text/plain": [
       "<Axes: >"
      ]
     },
     "execution_count": 11,
     "metadata": {},
     "output_type": "execute_result"
    },
    {
     "data": {
      "image/png": "[encoded data removed]",
      "text/plain": [
       "<Figure size 640x480 with 1 Axes>"
      ]
     },
     "metadata": {},
     "output_type": "display_data"
    }
   ],
   "source": [
    "# td.isnull()\n",
    "sns.heatmap(td.isnull(), yticklabels=False, cbar=False, cmap='viridis')"
   ]
  },
  {
   "cell_type": "code",
   "execution_count": 12,
   "id": "dcd84f8d",
   "metadata": {
    "execution": {
     "iopub.execute_input": "2022-10-08T11:56:03.382138Z",
     "iopub.status.busy": "2022-10-08T11:56:03.381642Z",
     "iopub.status.idle": "2022-10-08T11:56:03.597251Z",
     "shell.execute_reply": "2022-10-08T11:56:03.595962Z"
    },
    "papermill": {
     "duration": 0.228115,
     "end_time": "2022-10-08T11:56:03.600454",
     "exception": false,
     "start_time": "2022-10-08T11:56:03.372339",
     "status": "completed"
    },
    "tags": []
   },
   "outputs": [
    {
     "data": {
      "text/plain": [
       "<Axes: xlabel='Survived', ylabel='count'>"
      ]
     },
     "execution_count": 12,
     "metadata": {},
     "output_type": "execute_result"
    },
    {
     "data": {
      "image/png": "[encoded data removed]",
      "text/plain": [
       "<Figure size 640x480 with 1 Axes>"
      ]
     },
     "metadata": {},
     "output_type": "display_data"
    }
   ],
   "source": [
    "sns.countplot(x='Survived', data=td)"
   ]
  },
  {
   "cell_type": "code",
   "execution_count": 13,
   "id": "cd1f38ea",
   "metadata": {
    "execution": {
     "iopub.execute_input": "2022-10-08T11:56:03.619714Z",
     "iopub.status.busy": "2022-10-08T11:56:03.619185Z",
     "iopub.status.idle": "2022-10-08T11:56:03.867570Z",
     "shell.execute_reply": "2022-10-08T11:56:03.866310Z"
    },
    "papermill": {
     "duration": 0.261319,
     "end_time": "2022-10-08T11:56:03.870468",
     "exception": false,
     "start_time": "2022-10-08T11:56:03.609149",
     "status": "completed"
    },
    "tags": []
   },
   "outputs": [
    {
     "data": {
      "text/plain": [
       "<Axes: xlabel='Survived', ylabel='count'>"
      ]
     },
     "execution_count": 13,
     "metadata": {},
     "output_type": "execute_result"
    },
    {
     "data": {
      "image/png": "[encoded data removed]",
      "text/plain": [
       "<Figure size 640x480 with 1 Axes>"
      ]
     },
     "metadata": {},
     "output_type": "display_data"
    }
   ],
   "source": [
    "sns.set_style('darkgrid')\n",
    "sns.countplot(x='Survived', hue='Sex', data=td)"
   ]
  },
  {
   "cell_type": "code",
   "execution_count": 14,
   "id": "53a083ed",
   "metadata": {
    "execution": {
     "iopub.execute_input": "2022-10-08T11:56:03.889518Z",
     "iopub.status.busy": "2022-10-08T11:56:03.889039Z",
     "iopub.status.idle": "2022-10-08T11:56:04.162570Z",
     "shell.execute_reply": "2022-10-08T11:56:04.161231Z"
    },
    "papermill": {
     "duration": 0.28634,
     "end_time": "2022-10-08T11:56:04.165300",
     "exception": false,
     "start_time": "2022-10-08T11:56:03.878960",
     "status": "completed"
    },
    "tags": []
   },
   "outputs": [
    {
     "data": {
      "text/plain": [
       "<Axes: xlabel='Survived', ylabel='count'>"
      ]
     },
     "execution_count": 14,
     "metadata": {},
     "output_type": "execute_result"
    },
    {
     "data": {
      "image/png": "[encoded data removed]",
      "text/plain": [
       "<Figure size 640x480 with 1 Axes>"
      ]
     },
     "metadata": {},
     "output_type": "display_data"
    }
   ],
   "source": [
    "sns.set_style('darkgrid')\n",
    "sns.countplot(x='Survived', hue='Pclass', data=td)"
   ]
  },
  {
   "cell_type": "code",
   "execution_count": 15,
   "id": "8fcb8d62",
   "metadata": {
    "execution": {
     "iopub.execute_input": "2022-10-08T11:56:04.186700Z",
     "iopub.status.busy": "2022-10-08T11:56:04.186145Z",
     "iopub.status.idle": "2022-10-08T11:56:04.728332Z",
     "shell.execute_reply": "2022-10-08T11:56:04.727040Z"
    },
    "papermill": {
     "duration": 0.557516,
     "end_time": "2022-10-08T11:56:04.731820",
     "exception": false,
     "start_time": "2022-10-08T11:56:04.174304",
     "status": "completed"
    },
    "tags": []
   },
   "outputs": [
    {
     "data": {
      "text/plain": [
       "<seaborn.axisgrid.FacetGrid at 0x15bd47040>"
      ]
     },
     "execution_count": 15,
     "metadata": {},
     "output_type": "execute_result"
    },
    {
     "data": {
      "image/png": "[encoded data removed]",
      "text/plain": [
       "<Figure size 500x500 with 1 Axes>"
      ]
     },
     "metadata": {},
     "output_type": "display_data"
    }
   ],
   "source": [
    "sns.displot(td.Age.dropna(), kde=False, bins=40)\n",
    "# td.Age.hist(bins=40)"
   ]
  },
  {
   "cell_type": "code",
   "execution_count": 16,
   "id": "e5519e94",
   "metadata": {
    "execution": {
     "iopub.execute_input": "2022-10-08T11:56:04.755041Z",
     "iopub.status.busy": "2022-10-08T11:56:04.753642Z",
     "iopub.status.idle": "2022-10-08T11:56:05.014669Z",
     "shell.execute_reply": "2022-10-08T11:56:05.013280Z"
    },
    "papermill": {
     "duration": 0.274514,
     "end_time": "2022-10-08T11:56:05.017170",
     "exception": false,
     "start_time": "2022-10-08T11:56:04.742656",
     "status": "completed"
    },
    "tags": []
   },
   "outputs": [
    {
     "data": {
      "text/plain": [
       "<Axes: xlabel='SibSp', ylabel='count'>"
      ]
     },
     "execution_count": 16,
     "metadata": {},
     "output_type": "execute_result"
    },
    {
     "data": {
      "image/png": "[encoded data removed]",
      "text/plain": [
       "<Figure size 640x480 with 1 Axes>"
      ]
     },
     "metadata": {},
     "output_type": "display_data"
    }
   ],
   "source": [
    "sns.countplot(x='SibSp', data=td, )"
   ]
  },
  {
   "cell_type": "code",
   "execution_count": 17,
   "id": "2b90f192",
   "metadata": {
    "execution": {
     "iopub.execute_input": "2022-10-08T11:56:05.038790Z",
     "iopub.status.busy": "2022-10-08T11:56:05.038249Z",
     "iopub.status.idle": "2022-10-08T11:56:05.371961Z",
     "shell.execute_reply": "2022-10-08T11:56:05.370641Z"
    },
    "papermill": {
     "duration": 0.347685,
     "end_time": "2022-10-08T11:56:05.374684",
     "exception": false,
     "start_time": "2022-10-08T11:56:05.026999",
     "status": "completed"
    },
    "tags": []
   },
   "outputs": [
    {
     "data": {
      "text/plain": [
       "<Axes: xlabel='SibSp', ylabel='count'>"
      ]
     },
     "execution_count": 17,
     "metadata": {},
     "output_type": "execute_result"
    },
    {
     "data": {
      "image/png": "[encoded data removed]",
      "text/plain": [
       "<Figure size 640x480 with 1 Axes>"
      ]
     },
     "metadata": {},
     "output_type": "display_data"
    }
   ],
   "source": [
    "sns.countplot(x='SibSp', hue='Survived', data=td, )"
   ]
  },
  {
   "cell_type": "code",
   "execution_count": 18,
   "id": "c25f8082",
   "metadata": {
    "execution": {
     "iopub.execute_input": "2022-10-08T11:56:05.397049Z",
     "iopub.status.busy": "2022-10-08T11:56:05.396111Z",
     "iopub.status.idle": "2022-10-08T11:56:05.770669Z",
     "shell.execute_reply": "2022-10-08T11:56:05.769363Z"
    },
    "papermill": {
     "duration": 0.389274,
     "end_time": "2022-10-08T11:56:05.773732",
     "exception": false,
     "start_time": "2022-10-08T11:56:05.384458",
     "status": "completed"
    },
    "tags": []
   },
   "outputs": [
    {
     "data": {
      "text/plain": [
       "<Axes: >"
      ]
     },
     "execution_count": 18,
     "metadata": {},
     "output_type": "execute_result"
    },
    {
     "data": {
      "image/png": "[encoded data removed]",
      "text/plain": [
       "<Figure size 640x480 with 1 Axes>"
      ]
     },
     "metadata": {},
     "output_type": "display_data"
    }
   ],
   "source": [
    "td.Fare.hist(bins=40)"
   ]
  },
  {
   "cell_type": "markdown",
   "id": "716397d0",
   "metadata": {
    "papermill": {
     "duration": 0.010222,
     "end_time": "2022-10-08T11:56:05.794487",
     "exception": false,
     "start_time": "2022-10-08T11:56:05.784265",
     "status": "completed"
    },
    "tags": []
   },
   "source": [
    "# Data Cleaning"
   ]
  },
  {
   "cell_type": "code",
   "execution_count": 19,
   "id": "0be6fa1b",
   "metadata": {
    "execution": {
     "iopub.execute_input": "2022-10-08T11:56:05.818036Z",
     "iopub.status.busy": "2022-10-08T11:56:05.817161Z",
     "iopub.status.idle": "2022-10-08T11:56:06.086486Z",
     "shell.execute_reply": "2022-10-08T11:56:06.085143Z"
    },
    "papermill": {
     "duration": 0.284341,
     "end_time": "2022-10-08T11:56:06.089321",
     "exception": false,
     "start_time": "2022-10-08T11:56:05.804980",
     "status": "completed"
    },
    "tags": []
   },
   "outputs": [
    {
     "data": {
      "text/plain": [
       "<Axes: xlabel='Pclass', ylabel='Age'>"
      ]
     },
     "execution_count": 19,
     "metadata": {},
     "output_type": "execute_result"
    },
    {
     "data": {
      "image/png": "[encoded data removed]",
      "text/plain": [
       "<Figure size 640x480 with 1 Axes>"
      ]
     },
     "metadata": {},
     "output_type": "display_data"
    }
   ],
   "source": [
    "sns.boxplot(x='Pclass', y='Age', data=td)\n",
    "# sns.boxplot(x='SibSp', y='Age', data=td)\n",
    "# sns.boxplot(x='Parch', y='Age', data=td)"
   ]
  },
  {
   "cell_type": "code",
   "execution_count": 20,
   "id": "ef651d5a",
   "metadata": {},
   "outputs": [
    {
     "data": {
      "text/plain": [
       "((891, 12), (891, 12), (418, 11))"
      ]
     },
     "execution_count": 20,
     "metadata": {},
     "output_type": "execute_result"
    }
   ],
   "source": [
    "td.shape, train_data.shape, test_data.shape"
   ]
  },
  {
   "cell_type": "code",
   "execution_count": 21,
   "id": "89cdf3e6",
   "metadata": {},
   "outputs": [],
   "source": [
    "# data = td\n",
    "# data['Initial']=0\n",
    "# for i in data:\n",
    "#     data['Initial']=data.Name.str.extract('([A-Za-z]+)\\.') #lets extract the Salutations"
   ]
  },
  {
   "cell_type": "code",
   "execution_count": 22,
   "id": "eb3dfdf2",
   "metadata": {},
   "outputs": [],
   "source": [
    "# pd.crosstab(data.Initial,data.Sex).T.style.background_gradient(cmap='summer_r') #Checking the Initials with the Sex"
   ]
  },
  {
   "cell_type": "code",
   "execution_count": 23,
   "id": "8eff2ddb",
   "metadata": {},
   "outputs": [],
   "source": [
    "# data['Initial'].replace(['Mlle','Mme','Ms','Dr','Major','Lady','Countess','Jonkheer','Col','Rev','Capt','Sir','Don'],['Miss','Miss','Miss','Mr','Mr','Mrs','Mrs','Other','Other','Other','Mr','Mr','Mr'],inplace=True)"
   ]
  },
  {
   "cell_type": "code",
   "execution_count": 24,
   "id": "7da08de3",
   "metadata": {},
   "outputs": [],
   "source": [
    "# data.groupby('Initial')['Age'].mean() #lets check the average age by Initials"
   ]
  },
  {
   "cell_type": "code",
   "execution_count": 25,
   "id": "64a35369",
   "metadata": {},
   "outputs": [],
   "source": [
    "# ## Assigning the NaN Values with the Ceil values of the mean ages\n",
    "# data.loc[(data.Age.isnull())&(data.Initial=='Mr'),'Age']=33\n",
    "# data.loc[(data.Age.isnull())&(data.Initial=='Mrs'),'Age']=36\n",
    "# data.loc[(data.Age.isnull())&(data.Initial=='Master'),'Age']=5\n",
    "# data.loc[(data.Age.isnull())&(data.Initial=='Miss'),'Age']=22\n",
    "# data.loc[(data.Age.isnull())&(data.Initial=='Other'),'Age']=46"
   ]
  },
  {
   "cell_type": "code",
   "execution_count": 26,
   "id": "328f3e89",
   "metadata": {},
   "outputs": [],
   "source": [
    "# data.Age.isnull().any() #So no null values left finally "
   ]
  },
  {
   "cell_type": "code",
   "execution_count": null,
   "id": "ebf20645",
   "metadata": {},
   "outputs": [],
   "source": []
  },
  {
   "cell_type": "code",
   "execution_count": null,
   "id": "28bf2860",
   "metadata": {},
   "outputs": [],
   "source": []
  },
  {
   "cell_type": "code",
   "execution_count": 27,
   "id": "55c351b3",
   "metadata": {
    "execution": {
     "iopub.execute_input": "2022-10-08T11:56:06.113532Z",
     "iopub.status.busy": "2022-10-08T11:56:06.113052Z",
     "iopub.status.idle": "2022-10-08T11:56:06.149475Z",
     "shell.execute_reply": "2022-10-08T11:56:06.147659Z"
    },
    "papermill": {
     "duration": 0.052183,
     "end_time": "2022-10-08T11:56:06.152333",
     "exception": false,
     "start_time": "2022-10-08T11:56:06.100150",
     "status": "completed"
    },
    "tags": []
   },
   "outputs": [
    {
     "name": "stdout",
     "output_type": "stream",
     "text": [
      "177\n",
      "0\n"
     ]
    },
    {
     "name": "stderr",
     "output_type": "stream",
     "text": [
      "/var/folders/kf/1lvrcs_d0n5cycrr6f1txdvc0000gn/T/ipykernel_6935/3911383492.py:9: SettingWithCopyWarning: \n",
      "A value is trying to be set on a copy of a slice from a DataFrame\n",
      "\n",
      "See the caveats in the documentation: https://pandas.pydata.org/pandas-docs/stable/user_guide/indexing.html#returning-a-view-versus-a-copy\n",
      "  res[(res.isnull()==True) & (cols[dep]==c)] = np.median(cols[cols[dep]==c][age].dropna())\n"
     ]
    }
   ],
   "source": [
    "def clean_age(cols):\n",
    "    # print(cols.columns)\n",
    "    age, dep = cols.columns\n",
    "    res = cols[age]\n",
    "    classes = pd.unique(cols[dep])\n",
    "    tot = 0\n",
    "    for c in classes:\n",
    "        # print(len(res[res.isnull()==True][cols[dep]==c]))\n",
    "        res[(res.isnull()==True) & (cols[dep]==c)] = np.median(cols[cols[dep]==c][age].dropna())\n",
    "        # print(len(res[res.isnull()==True][cols[dep]==c]))\n",
    "    return res\n",
    "\n",
    "print(len(td[td.Age.isnull()]))\n",
    "td.Age = clean_age(td[['Age', 'Pclass']])\n",
    "print(len(td[td.Age.isnull()]))"
   ]
  },
  {
   "cell_type": "code",
   "execution_count": 28,
   "id": "d01d784e",
   "metadata": {
    "execution": {
     "iopub.execute_input": "2022-10-08T11:56:06.176858Z",
     "iopub.status.busy": "2022-10-08T11:56:06.175488Z",
     "iopub.status.idle": "2022-10-08T11:56:06.196936Z",
     "shell.execute_reply": "2022-10-08T11:56:06.195693Z"
    },
    "papermill": {
     "duration": 0.037463,
     "end_time": "2022-10-08T11:56:06.200630",
     "exception": false,
     "start_time": "2022-10-08T11:56:06.163167",
     "status": "completed"
    },
    "tags": []
   },
   "outputs": [
    {
     "name": "stderr",
     "output_type": "stream",
     "text": [
      "/var/folders/kf/1lvrcs_d0n5cycrr6f1txdvc0000gn/T/ipykernel_6935/3911383492.py:9: SettingWithCopyWarning: \n",
      "A value is trying to be set on a copy of a slice from a DataFrame\n",
      "\n",
      "See the caveats in the documentation: https://pandas.pydata.org/pandas-docs/stable/user_guide/indexing.html#returning-a-view-versus-a-copy\n",
      "  res[(res.isnull()==True) & (cols[dep]==c)] = np.median(cols[cols[dep]==c][age].dropna())\n"
     ]
    }
   ],
   "source": [
    "test_data.Age = clean_age(td[['Age', 'Pclass']])"
   ]
  },
  {
   "cell_type": "code",
   "execution_count": 29,
   "id": "b8899801",
   "metadata": {
    "execution": {
     "iopub.execute_input": "2022-10-08T11:56:06.225346Z",
     "iopub.status.busy": "2022-10-08T11:56:06.224863Z",
     "iopub.status.idle": "2022-10-08T11:56:06.488351Z",
     "shell.execute_reply": "2022-10-08T11:56:06.487074Z"
    },
    "papermill": {
     "duration": 0.279185,
     "end_time": "2022-10-08T11:56:06.491291",
     "exception": false,
     "start_time": "2022-10-08T11:56:06.212106",
     "status": "completed"
    },
    "tags": []
   },
   "outputs": [
    {
     "data": {
      "text/plain": [
       "<Axes: >"
      ]
     },
     "execution_count": 29,
     "metadata": {},
     "output_type": "execute_result"
    },
    {
     "data": {
      "image/png": "[encoded data removed]",
      "text/plain": [
       "<Figure size 640x480 with 1 Axes>"
      ]
     },
     "metadata": {},
     "output_type": "display_data"
    }
   ],
   "source": [
    "sns.heatmap(test_data.isnull(), yticklabels=False, cbar=False, cmap='viridis')"
   ]
  },
  {
   "cell_type": "code",
   "execution_count": 30,
   "id": "32f5cfb5",
   "metadata": {
    "execution": {
     "iopub.execute_input": "2022-10-08T11:56:06.517419Z",
     "iopub.status.busy": "2022-10-08T11:56:06.516888Z",
     "iopub.status.idle": "2022-10-08T11:56:06.527755Z",
     "shell.execute_reply": "2022-10-08T11:56:06.526759Z"
    },
    "papermill": {
     "duration": 0.026712,
     "end_time": "2022-10-08T11:56:06.530293",
     "exception": false,
     "start_time": "2022-10-08T11:56:06.503581",
     "status": "completed"
    },
    "tags": []
   },
   "outputs": [],
   "source": [
    "# One-Hot encodding for Embarked column\n",
    "\n",
    "sex = pd.get_dummies(td.Sex, drop_first=True)\n",
    "embark = pd.get_dummies(td.Embarked, drop_first=True)"
   ]
  },
  {
   "cell_type": "code",
   "execution_count": 31,
   "id": "c2a3ea5c",
   "metadata": {
    "execution": {
     "iopub.execute_input": "2022-10-08T11:56:06.555287Z",
     "iopub.status.busy": "2022-10-08T11:56:06.554768Z",
     "iopub.status.idle": "2022-10-08T11:56:06.562272Z",
     "shell.execute_reply": "2022-10-08T11:56:06.560984Z"
    },
    "papermill": {
     "duration": 0.022953,
     "end_time": "2022-10-08T11:56:06.564699",
     "exception": false,
     "start_time": "2022-10-08T11:56:06.541746",
     "status": "completed"
    },
    "tags": []
   },
   "outputs": [],
   "source": [
    "td.drop(['Sex', 'Embarked'], inplace=True, axis=1)"
   ]
  },
  {
   "cell_type": "code",
   "execution_count": 32,
   "id": "263584c5",
   "metadata": {
    "execution": {
     "iopub.execute_input": "2022-10-08T11:56:06.590022Z",
     "iopub.status.busy": "2022-10-08T11:56:06.589208Z",
     "iopub.status.idle": "2022-10-08T11:56:06.606153Z",
     "shell.execute_reply": "2022-10-08T11:56:06.604966Z"
    },
    "papermill": {
     "duration": 0.032919,
     "end_time": "2022-10-08T11:56:06.609111",
     "exception": false,
     "start_time": "2022-10-08T11:56:06.576192",
     "status": "completed"
    },
    "tags": []
   },
   "outputs": [
    {
     "data": {
      "text/html": [
       "<div>\n",
       "<style scoped>\n",
       "    .dataframe tbody tr th:only-of-type {\n",
       "        vertical-align: middle;\n",
       "    }\n",
       "\n",
       "    .dataframe tbody tr th {\n",
       "        vertical-align: top;\n",
       "    }\n",
       "\n",
       "    .dataframe thead th {\n",
       "        text-align: right;\n",
       "    }\n",
       "</style>\n",
       "<table border=\"1\" class=\"dataframe\">\n",
       "  <thead>\n",
       "    <tr style=\"text-align: right;\">\n",
       "      <th></th>\n",
       "      <th>PassengerId</th>\n",
       "      <th>Survived</th>\n",
       "      <th>Pclass</th>\n",
       "      <th>Name</th>\n",
       "      <th>Age</th>\n",
       "      <th>SibSp</th>\n",
       "      <th>Parch</th>\n",
       "      <th>Ticket</th>\n",
       "      <th>Fare</th>\n",
       "      <th>Cabin</th>\n",
       "    </tr>\n",
       "  </thead>\n",
       "  <tbody>\n",
       "    <tr>\n",
       "      <th>0</th>\n",
       "      <td>1</td>\n",
       "      <td>0</td>\n",
       "      <td>3</td>\n",
       "      <td>Braund, Mr. Owen Harris</td>\n",
       "      <td>22.0</td>\n",
       "      <td>1</td>\n",
       "      <td>0</td>\n",
       "      <td>A/5 21171</td>\n",
       "      <td>7.2500</td>\n",
       "      <td>NaN</td>\n",
       "    </tr>\n",
       "    <tr>\n",
       "      <th>1</th>\n",
       "      <td>2</td>\n",
       "      <td>1</td>\n",
       "      <td>1</td>\n",
       "      <td>Cumings, Mrs. John Bradley (Florence Briggs Th...</td>\n",
       "      <td>38.0</td>\n",
       "      <td>1</td>\n",
       "      <td>0</td>\n",
       "      <td>PC 17599</td>\n",
       "      <td>71.2833</td>\n",
       "      <td>C85</td>\n",
       "    </tr>\n",
       "    <tr>\n",
       "      <th>2</th>\n",
       "      <td>3</td>\n",
       "      <td>1</td>\n",
       "      <td>3</td>\n",
       "      <td>Heikkinen, Miss. Laina</td>\n",
       "      <td>26.0</td>\n",
       "      <td>0</td>\n",
       "      <td>0</td>\n",
       "      <td>STON/O2. 3101282</td>\n",
       "      <td>7.9250</td>\n",
       "      <td>NaN</td>\n",
       "    </tr>\n",
       "    <tr>\n",
       "      <th>3</th>\n",
       "      <td>4</td>\n",
       "      <td>1</td>\n",
       "      <td>1</td>\n",
       "      <td>Futrelle, Mrs. Jacques Heath (Lily May Peel)</td>\n",
       "      <td>35.0</td>\n",
       "      <td>1</td>\n",
       "      <td>0</td>\n",
       "      <td>113803</td>\n",
       "      <td>53.1000</td>\n",
       "      <td>C123</td>\n",
       "    </tr>\n",
       "    <tr>\n",
       "      <th>4</th>\n",
       "      <td>5</td>\n",
       "      <td>0</td>\n",
       "      <td>3</td>\n",
       "      <td>Allen, Mr. William Henry</td>\n",
       "      <td>35.0</td>\n",
       "      <td>0</td>\n",
       "      <td>0</td>\n",
       "      <td>373450</td>\n",
       "      <td>8.0500</td>\n",
       "      <td>NaN</td>\n",
       "    </tr>\n",
       "  </tbody>\n",
       "</table>\n",
       "</div>"
      ],
      "text/plain": [
       "   PassengerId  Survived  Pclass  \\\n",
       "0            1         0       3   \n",
       "1            2         1       1   \n",
       "2            3         1       3   \n",
       "3            4         1       1   \n",
       "4            5         0       3   \n",
       "\n",
       "                                                Name   Age  SibSp  Parch  \\\n",
       "0                            Braund, Mr. Owen Harris  22.0      1      0   \n",
       "1  Cumings, Mrs. John Bradley (Florence Briggs Th...  38.0      1      0   \n",
       "2                             Heikkinen, Miss. Laina  26.0      0      0   \n",
       "3       Futrelle, Mrs. Jacques Heath (Lily May Peel)  35.0      1      0   \n",
       "4                           Allen, Mr. William Henry  35.0      0      0   \n",
       "\n",
       "             Ticket     Fare Cabin  \n",
       "0         A/5 21171   7.2500   NaN  \n",
       "1          PC 17599  71.2833   C85  \n",
       "2  STON/O2. 3101282   7.9250   NaN  \n",
       "3            113803  53.1000  C123  \n",
       "4            373450   8.0500   NaN  "
      ]
     },
     "execution_count": 32,
     "metadata": {},
     "output_type": "execute_result"
    }
   ],
   "source": [
    "td.head()"
   ]
  },
  {
   "cell_type": "code",
   "execution_count": 33,
   "id": "cae8f014",
   "metadata": {
    "execution": {
     "iopub.execute_input": "2022-10-08T11:56:06.634442Z",
     "iopub.status.busy": "2022-10-08T11:56:06.633946Z",
     "iopub.status.idle": "2022-10-08T11:56:06.654866Z",
     "shell.execute_reply": "2022-10-08T11:56:06.653785Z"
    },
    "papermill": {
     "duration": 0.03608,
     "end_time": "2022-10-08T11:56:06.657231",
     "exception": false,
     "start_time": "2022-10-08T11:56:06.621151",
     "status": "completed"
    },
    "tags": []
   },
   "outputs": [
    {
     "data": {
      "text/html": [
       "<div>\n",
       "<style scoped>\n",
       "    .dataframe tbody tr th:only-of-type {\n",
       "        vertical-align: middle;\n",
       "    }\n",
       "\n",
       "    .dataframe tbody tr th {\n",
       "        vertical-align: top;\n",
       "    }\n",
       "\n",
       "    .dataframe thead th {\n",
       "        text-align: right;\n",
       "    }\n",
       "</style>\n",
       "<table border=\"1\" class=\"dataframe\">\n",
       "  <thead>\n",
       "    <tr style=\"text-align: right;\">\n",
       "      <th></th>\n",
       "      <th>PassengerId</th>\n",
       "      <th>Survived</th>\n",
       "      <th>Pclass</th>\n",
       "      <th>Name</th>\n",
       "      <th>Age</th>\n",
       "      <th>SibSp</th>\n",
       "      <th>Parch</th>\n",
       "      <th>Ticket</th>\n",
       "      <th>Fare</th>\n",
       "      <th>Cabin</th>\n",
       "      <th>male</th>\n",
       "      <th>Q</th>\n",
       "      <th>S</th>\n",
       "    </tr>\n",
       "  </thead>\n",
       "  <tbody>\n",
       "    <tr>\n",
       "      <th>0</th>\n",
       "      <td>1</td>\n",
       "      <td>0</td>\n",
       "      <td>3</td>\n",
       "      <td>Braund, Mr. Owen Harris</td>\n",
       "      <td>22.0</td>\n",
       "      <td>1</td>\n",
       "      <td>0</td>\n",
       "      <td>A/5 21171</td>\n",
       "      <td>7.2500</td>\n",
       "      <td>NaN</td>\n",
       "      <td>1</td>\n",
       "      <td>0</td>\n",
       "      <td>1</td>\n",
       "    </tr>\n",
       "    <tr>\n",
       "      <th>1</th>\n",
       "      <td>2</td>\n",
       "      <td>1</td>\n",
       "      <td>1</td>\n",
       "      <td>Cumings, Mrs. John Bradley (Florence Briggs Th...</td>\n",
       "      <td>38.0</td>\n",
       "      <td>1</td>\n",
       "      <td>0</td>\n",
       "      <td>PC 17599</td>\n",
       "      <td>71.2833</td>\n",
       "      <td>C85</td>\n",
       "      <td>0</td>\n",
       "      <td>0</td>\n",
       "      <td>0</td>\n",
       "    </tr>\n",
       "    <tr>\n",
       "      <th>2</th>\n",
       "      <td>3</td>\n",
       "      <td>1</td>\n",
       "      <td>3</td>\n",
       "      <td>Heikkinen, Miss. Laina</td>\n",
       "      <td>26.0</td>\n",
       "      <td>0</td>\n",
       "      <td>0</td>\n",
       "      <td>STON/O2. 3101282</td>\n",
       "      <td>7.9250</td>\n",
       "      <td>NaN</td>\n",
       "      <td>0</td>\n",
       "      <td>0</td>\n",
       "      <td>1</td>\n",
       "    </tr>\n",
       "    <tr>\n",
       "      <th>3</th>\n",
       "      <td>4</td>\n",
       "      <td>1</td>\n",
       "      <td>1</td>\n",
       "      <td>Futrelle, Mrs. Jacques Heath (Lily May Peel)</td>\n",
       "      <td>35.0</td>\n",
       "      <td>1</td>\n",
       "      <td>0</td>\n",
       "      <td>113803</td>\n",
       "      <td>53.1000</td>\n",
       "      <td>C123</td>\n",
       "      <td>0</td>\n",
       "      <td>0</td>\n",
       "      <td>1</td>\n",
       "    </tr>\n",
       "    <tr>\n",
       "      <th>4</th>\n",
       "      <td>5</td>\n",
       "      <td>0</td>\n",
       "      <td>3</td>\n",
       "      <td>Allen, Mr. William Henry</td>\n",
       "      <td>35.0</td>\n",
       "      <td>0</td>\n",
       "      <td>0</td>\n",
       "      <td>373450</td>\n",
       "      <td>8.0500</td>\n",
       "      <td>NaN</td>\n",
       "      <td>1</td>\n",
       "      <td>0</td>\n",
       "      <td>1</td>\n",
       "    </tr>\n",
       "  </tbody>\n",
       "</table>\n",
       "</div>"
      ],
      "text/plain": [
       "   PassengerId  Survived  Pclass  \\\n",
       "0            1         0       3   \n",
       "1            2         1       1   \n",
       "2            3         1       3   \n",
       "3            4         1       1   \n",
       "4            5         0       3   \n",
       "\n",
       "                                                Name   Age  SibSp  Parch  \\\n",
       "0                            Braund, Mr. Owen Harris  22.0      1      0   \n",
       "1  Cumings, Mrs. John Bradley (Florence Briggs Th...  38.0      1      0   \n",
       "2                             Heikkinen, Miss. Laina  26.0      0      0   \n",
       "3       Futrelle, Mrs. Jacques Heath (Lily May Peel)  35.0      1      0   \n",
       "4                           Allen, Mr. William Henry  35.0      0      0   \n",
       "\n",
       "             Ticket     Fare Cabin  male  Q  S  \n",
       "0         A/5 21171   7.2500   NaN     1  0  1  \n",
       "1          PC 17599  71.2833   C85     0  0  0  \n",
       "2  STON/O2. 3101282   7.9250   NaN     0  0  1  \n",
       "3            113803  53.1000  C123     0  0  1  \n",
       "4            373450   8.0500   NaN     1  0  1  "
      ]
     },
     "execution_count": 33,
     "metadata": {},
     "output_type": "execute_result"
    }
   ],
   "source": [
    "td = pd.concat([td, sex, embark], axis=1)\n",
    "td.head()"
   ]
  },
  {
   "cell_type": "code",
   "execution_count": 34,
   "id": "4a24b199",
   "metadata": {
    "execution": {
     "iopub.execute_input": "2022-10-08T11:56:06.685433Z",
     "iopub.status.busy": "2022-10-08T11:56:06.683825Z",
     "iopub.status.idle": "2022-10-08T11:56:06.707975Z",
     "shell.execute_reply": "2022-10-08T11:56:06.706738Z"
    },
    "papermill": {
     "duration": 0.041193,
     "end_time": "2022-10-08T11:56:06.710692",
     "exception": false,
     "start_time": "2022-10-08T11:56:06.669499",
     "status": "completed"
    },
    "tags": []
   },
   "outputs": [
    {
     "data": {
      "text/html": [
       "<div>\n",
       "<style scoped>\n",
       "    .dataframe tbody tr th:only-of-type {\n",
       "        vertical-align: middle;\n",
       "    }\n",
       "\n",
       "    .dataframe tbody tr th {\n",
       "        vertical-align: top;\n",
       "    }\n",
       "\n",
       "    .dataframe thead th {\n",
       "        text-align: right;\n",
       "    }\n",
       "</style>\n",
       "<table border=\"1\" class=\"dataframe\">\n",
       "  <thead>\n",
       "    <tr style=\"text-align: right;\">\n",
       "      <th></th>\n",
       "      <th>PassengerId</th>\n",
       "      <th>Pclass</th>\n",
       "      <th>Name</th>\n",
       "      <th>Age</th>\n",
       "      <th>SibSp</th>\n",
       "      <th>Parch</th>\n",
       "      <th>Ticket</th>\n",
       "      <th>Fare</th>\n",
       "      <th>Cabin</th>\n",
       "      <th>male</th>\n",
       "      <th>Q</th>\n",
       "      <th>S</th>\n",
       "    </tr>\n",
       "  </thead>\n",
       "  <tbody>\n",
       "    <tr>\n",
       "      <th>0</th>\n",
       "      <td>892</td>\n",
       "      <td>3</td>\n",
       "      <td>Kelly, Mr. James</td>\n",
       "      <td>22.0</td>\n",
       "      <td>0</td>\n",
       "      <td>0</td>\n",
       "      <td>330911</td>\n",
       "      <td>7.8292</td>\n",
       "      <td>NaN</td>\n",
       "      <td>1</td>\n",
       "      <td>1</td>\n",
       "      <td>0</td>\n",
       "    </tr>\n",
       "    <tr>\n",
       "      <th>1</th>\n",
       "      <td>893</td>\n",
       "      <td>3</td>\n",
       "      <td>Wilkes, Mrs. James (Ellen Needs)</td>\n",
       "      <td>38.0</td>\n",
       "      <td>1</td>\n",
       "      <td>0</td>\n",
       "      <td>363272</td>\n",
       "      <td>7.0000</td>\n",
       "      <td>NaN</td>\n",
       "      <td>0</td>\n",
       "      <td>0</td>\n",
       "      <td>1</td>\n",
       "    </tr>\n",
       "    <tr>\n",
       "      <th>2</th>\n",
       "      <td>894</td>\n",
       "      <td>2</td>\n",
       "      <td>Myles, Mr. Thomas Francis</td>\n",
       "      <td>26.0</td>\n",
       "      <td>0</td>\n",
       "      <td>0</td>\n",
       "      <td>240276</td>\n",
       "      <td>9.6875</td>\n",
       "      <td>NaN</td>\n",
       "      <td>1</td>\n",
       "      <td>1</td>\n",
       "      <td>0</td>\n",
       "    </tr>\n",
       "    <tr>\n",
       "      <th>3</th>\n",
       "      <td>895</td>\n",
       "      <td>3</td>\n",
       "      <td>Wirz, Mr. Albert</td>\n",
       "      <td>35.0</td>\n",
       "      <td>0</td>\n",
       "      <td>0</td>\n",
       "      <td>315154</td>\n",
       "      <td>8.6625</td>\n",
       "      <td>NaN</td>\n",
       "      <td>1</td>\n",
       "      <td>0</td>\n",
       "      <td>1</td>\n",
       "    </tr>\n",
       "    <tr>\n",
       "      <th>4</th>\n",
       "      <td>896</td>\n",
       "      <td>3</td>\n",
       "      <td>Hirvonen, Mrs. Alexander (Helga E Lindqvist)</td>\n",
       "      <td>35.0</td>\n",
       "      <td>1</td>\n",
       "      <td>1</td>\n",
       "      <td>3101298</td>\n",
       "      <td>12.2875</td>\n",
       "      <td>NaN</td>\n",
       "      <td>0</td>\n",
       "      <td>0</td>\n",
       "      <td>1</td>\n",
       "    </tr>\n",
       "  </tbody>\n",
       "</table>\n",
       "</div>"
      ],
      "text/plain": [
       "   PassengerId  Pclass                                          Name   Age  \\\n",
       "0          892       3                              Kelly, Mr. James  22.0   \n",
       "1          893       3              Wilkes, Mrs. James (Ellen Needs)  38.0   \n",
       "2          894       2                     Myles, Mr. Thomas Francis  26.0   \n",
       "3          895       3                              Wirz, Mr. Albert  35.0   \n",
       "4          896       3  Hirvonen, Mrs. Alexander (Helga E Lindqvist)  35.0   \n",
       "\n",
       "   SibSp  Parch   Ticket     Fare Cabin  male  Q  S  \n",
       "0      0      0   330911   7.8292   NaN     1  1  0  \n",
       "1      1      0   363272   7.0000   NaN     0  0  1  \n",
       "2      0      0   240276   9.6875   NaN     1  1  0  \n",
       "3      0      0   315154   8.6625   NaN     1  0  1  \n",
       "4      1      1  3101298  12.2875   NaN     0  0  1  "
      ]
     },
     "execution_count": 34,
     "metadata": {},
     "output_type": "execute_result"
    }
   ],
   "source": [
    "sex = pd.get_dummies(test_data.Sex, drop_first=True)\n",
    "embark = pd.get_dummies(test_data.Embarked, drop_first=True)\n",
    "test_data.drop(['Sex', 'Embarked'], inplace=True, axis=1)\n",
    "test_data = pd.concat([test_data, sex, embark], axis=1)\n",
    "test_data.head()"
   ]
  },
  {
   "cell_type": "code",
   "execution_count": 35,
   "id": "fa2ba210",
   "metadata": {
    "execution": {
     "iopub.execute_input": "2022-10-08T11:56:06.737018Z",
     "iopub.status.busy": "2022-10-08T11:56:06.736064Z",
     "iopub.status.idle": "2022-10-08T11:56:06.741259Z",
     "shell.execute_reply": "2022-10-08T11:56:06.740431Z"
    },
    "papermill": {
     "duration": 0.020999,
     "end_time": "2022-10-08T11:56:06.743653",
     "exception": false,
     "start_time": "2022-10-08T11:56:06.722654",
     "status": "completed"
    },
    "tags": []
   },
   "outputs": [],
   "source": [
    "# def accuracy(y, y_):\n",
    "#     return len(y[y==y_])/len(y)*100"
   ]
  },
  {
   "cell_type": "code",
   "execution_count": 36,
   "id": "400c70d4",
   "metadata": {
    "execution": {
     "iopub.execute_input": "2022-10-08T11:56:06.769838Z",
     "iopub.status.busy": "2022-10-08T11:56:06.769322Z",
     "iopub.status.idle": "2022-10-08T11:56:07.250300Z",
     "shell.execute_reply": "2022-10-08T11:56:07.248944Z"
    },
    "papermill": {
     "duration": 0.497938,
     "end_time": "2022-10-08T11:56:07.253538",
     "exception": false,
     "start_time": "2022-10-08T11:56:06.755600",
     "status": "completed"
    },
    "tags": []
   },
   "outputs": [],
   "source": [
    "from sklearn.ensemble import RandomForestClassifier\n",
    "\n",
    "y = td[\"Survived\"]\n",
    "\n",
    "features = [\"Pclass\", \"male\", \"SibSp\", \"Parch\", \"Fare\", \"Age\", \"Q\", \"S\"]\n",
    "X = pd.get_dummies(td[features])\n",
    "X_test = pd.get_dummies(test_data[features])\n"
   ]
  },
  {
   "cell_type": "code",
   "execution_count": 37,
   "id": "8977f5a3",
   "metadata": {
    "execution": {
     "iopub.execute_input": "2022-10-08T11:56:07.279941Z",
     "iopub.status.busy": "2022-10-08T11:56:07.279421Z",
     "iopub.status.idle": "2022-10-08T11:56:07.288449Z",
     "shell.execute_reply": "2022-10-08T11:56:07.287054Z"
    },
    "papermill": {
     "duration": 0.025056,
     "end_time": "2022-10-08T11:56:07.290824",
     "exception": false,
     "start_time": "2022-10-08T11:56:07.265768",
     "status": "completed"
    },
    "tags": []
   },
   "outputs": [],
   "source": [
    "\n",
    "def spilt_train_cv_test(X, Y, ratio):\n",
    "    \"\"\"\n",
    "    returns : train_x, train_y, cv_x, cv_y, test_x, test_y\n",
    "    \"\"\"\n",
    "    from sklearn.model_selection import train_test_split\n",
    "    import numpy as np\n",
    "    train, cv, test = ratio\n",
    "    if cv==0.0:\n",
    "        train_x, test_x, train_y, test_y = train_test_split(X, Y, test_size=test)#, random_state=42)\n",
    "        cv_x, cv_y = [0], [0]\n",
    "        return train_x, train_y, cv_x, cv_y, test_x, test_y\n",
    "    train_x, tx, train_y, ty = train_test_split(X, Y, test_size=cv+test)#, random_state=42)\n",
    "    # print(tx.shape, ty.shape)\n",
    "    cv_x, test_x, cv_y, test_y = train_test_split(tx, ty, test_size=test/(cv+test))#, random_state=42)\n",
    "\n",
    "    return train_x, train_y, cv_x, cv_y, test_x, test_y\n",
    "\n",
    "\n",
    "def accuracy(y, y_):\n",
    "    return len(y[y==y_])/len(y)*100"
   ]
  },
  {
   "cell_type": "code",
   "execution_count": 38,
   "id": "2e5938d4",
   "metadata": {
    "execution": {
     "iopub.execute_input": "2022-10-08T11:56:07.317449Z",
     "iopub.status.busy": "2022-10-08T11:56:07.316163Z",
     "iopub.status.idle": "2022-10-08T11:56:07.763949Z",
     "shell.execute_reply": "2022-10-08T11:56:07.761855Z"
    },
    "papermill": {
     "duration": 0.464836,
     "end_time": "2022-10-08T11:56:07.767708",
     "exception": false,
     "start_time": "2022-10-08T11:56:07.302872",
     "status": "completed"
    },
    "tags": []
   },
   "outputs": [
    {
     "name": "stdout",
     "output_type": "stream",
     "text": [
      "(891, 8) (891,)\n",
      "(623, 8) (268, 8)\n",
      "97.91332263242376\n",
      "83.2089552238806\n"
     ]
    }
   ],
   "source": [
    "from xgboost import XGBClassifier as xgc\n",
    "# from myutils import *\n",
    "\n",
    "print(X.shape,y.shape)\n",
    "train_x, train_y, cv_x, cv_y, test_x, test_y = spilt_train_cv_test(X, y, [0.7, 0.0, 0.3])\n",
    "print(train_x.shape, test_x.shape, )\n",
    "\n",
    "model = xgc()\n",
    "model.fit(train_x, train_y)\n",
    "# model = RandomForestClassifier(n_estimators=100, max_depth=5, random_state=1)\n",
    "# model.fit(X, y)\n",
    "\n",
    "y_ = model.predict(train_x)\n",
    "print(accuracy(train_y, y_))\n",
    "y_ = model.predict(test_x)\n",
    "print(accuracy(test_y, y_))\n",
    "# print(accuracy(cv_y, model.predict(cv_x)))\n",
    "# print(accuracy(test_y, model.predict(test_x)))"
   ]
  },
  {
   "cell_type": "code",
   "execution_count": 39,
   "id": "59fe5bbf",
   "metadata": {
    "execution": {
     "iopub.execute_input": "2022-10-08T11:56:07.795379Z",
     "iopub.status.busy": "2022-10-08T11:56:07.794889Z",
     "iopub.status.idle": "2022-10-08T11:56:07.807138Z",
     "shell.execute_reply": "2022-10-08T11:56:07.805854Z"
    },
    "papermill": {
     "duration": 0.028282,
     "end_time": "2022-10-08T11:56:07.809590",
     "exception": false,
     "start_time": "2022-10-08T11:56:07.781308",
     "status": "completed"
    },
    "tags": []
   },
   "outputs": [],
   "source": [
    "from sklearn.metrics import confusion_matrix as cm\n",
    "\n",
    "# cm(y, y_)"
   ]
  },
  {
   "cell_type": "code",
   "execution_count": 40,
   "id": "cd2f5793",
   "metadata": {
    "execution": {
     "iopub.execute_input": "2022-10-08T11:56:07.835934Z",
     "iopub.status.busy": "2022-10-08T11:56:07.835374Z",
     "iopub.status.idle": "2022-10-08T11:56:07.859435Z",
     "shell.execute_reply": "2022-10-08T11:56:07.857529Z"
    },
    "papermill": {
     "duration": 0.041594,
     "end_time": "2022-10-08T11:56:07.863242",
     "exception": false,
     "start_time": "2022-10-08T11:56:07.821648",
     "status": "completed"
    },
    "tags": []
   },
   "outputs": [
    {
     "name": "stdout",
     "output_type": "stream",
     "text": [
      "Submission successfully saved!\n"
     ]
    }
   ],
   "source": [
    "model.fit(X, y)\n",
    "y_ = model.predict(X_test)\n",
    "output = pd.DataFrame({'PassengerId': test_data.PassengerId, 'Survived': y_})\n",
    "output.to_csv('submission.csv', index=False)\n",
    "print(\"Submission successfully saved!\")\n",
    "# accuracy(y, y_)"
   ]
  },
  {
   "cell_type": "code",
   "execution_count": 42,
   "id": "96859c92",
   "metadata": {
    "papermill": {
     "duration": 0.011884,
     "end_time": "2022-10-08T11:56:07.888421",
     "exception": false,
     "start_time": "2022-10-08T11:56:07.876537",
     "status": "completed"
    },
    "tags": []
   },
   "outputs": [],
   "source": [
    "# X_test.spape"
   ]
  }
 ],
 "metadata": {
  "kernelspec": {
   "display_name": "Python 3",
   "language": "python",
   "name": "python3"
  },
  "language_info": {
   "codemirror_mode": {
    "name": "ipython",
    "version": 3
   },
   "file_extension": ".py",
   "mimetype": "text/x-python",
   "name": "python",
   "nbconvert_exporter": "python",
   "pygments_lexer": "ipython3",
   "version": "3.10.6"
  },
  "papermill": {
   "default_parameters": {},
   "duration": 17.571706,
   "end_time": "2022-10-08T11:56:09.128844",
   "environment_variables": {},
   "exception": null,
   "input_path": "__notebook__.ipynb",
   "output_path": "__notebook__.ipynb",
   "parameters": {},
   "start_time": "2022-10-08T11:55:51.557138",
   "version": "2.3.4"
  }
 },
 "nbformat": 4,
 "nbformat_minor": 5
}
